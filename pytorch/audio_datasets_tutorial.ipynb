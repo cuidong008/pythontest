{
  "cells": [
    {
      "cell_type": "markdown",
      "metadata": {},
      "source": [
        "\n",
        "# Audio Datasets\n",
        "\n",
        "**Author**: [Moto Hira](moto@meta.com)_\n",
        "\n",
        "``torchaudio`` provides easy access to common, publicly accessible\n",
        "datasets. Please refer to the official documentation for the list of\n",
        "available datasets.\n"
      ]
    },
    {
      "cell_type": "code",
      "execution_count": null,
      "metadata": {
        "collapsed": false
      },
      "outputs": [],
      "source": [
        "import torch\n",
        "import torchaudio\n",
        "\n",
        "print(torch.__version__)\n",
        "print(torchaudio.__version__)"
      ]
    },
    {
      "cell_type": "code",
      "execution_count": null,
      "metadata": {
        "collapsed": false
      },
      "outputs": [],
      "source": [
        "import os\n",
        "\n",
        "import IPython\n",
        "\n",
        "import matplotlib.pyplot as plt\n",
        "\n",
        "\n",
        "_SAMPLE_DIR = \"/workspace/pub/pytorch_tutorial_data/datasets\"\n",
        "YESNO_DATASET_PATH = os.path.join(_SAMPLE_DIR, \"yes_no\")\n",
        "os.makedirs(YESNO_DATASET_PATH, exist_ok=True)\n",
        "\n",
        "\n",
        "def plot_specgram(waveform, sample_rate, title=\"Spectrogram\"):\n",
        "    waveform = waveform.numpy()\n",
        "\n",
        "    figure, ax = plt.subplots()\n",
        "    ax.specgram(waveform[0], Fs=sample_rate)\n",
        "    figure.suptitle(title)\n",
        "    figure.tight_layout()"
      ]
    },
    {
      "cell_type": "markdown",
      "metadata": {},
      "source": [
        "Here, we show how to use the\n",
        ":py:class:`torchaudio.datasets.YESNO` dataset.\n",
        "\n",
        "\n"
      ]
    },
    {
      "cell_type": "code",
      "execution_count": null,
      "metadata": {
        "collapsed": false
      },
      "outputs": [],
      "source": [
        "dataset = torchaudio.datasets.YESNO(YESNO_DATASET_PATH, download=True)"
      ]
    },
    {
      "cell_type": "code",
      "execution_count": null,
      "metadata": {
        "collapsed": false
      },
      "outputs": [],
      "source": [
        "i = 1\n",
        "waveform, sample_rate, label = dataset[i]\n",
        "plot_specgram(waveform, sample_rate, title=f\"Sample {i}: {label}\")\n",
        "IPython.display.Audio(waveform, rate=sample_rate)"
      ]
    },
    {
      "cell_type": "code",
      "execution_count": null,
      "metadata": {
        "collapsed": false
      },
      "outputs": [],
      "source": [
        "i = 3\n",
        "waveform, sample_rate, label = dataset[i]\n",
        "plot_specgram(waveform, sample_rate, title=f\"Sample {i}: {label}\")\n",
        "IPython.display.Audio(waveform, rate=sample_rate)"
      ]
    },
    {
      "cell_type": "code",
      "execution_count": null,
      "metadata": {
        "collapsed": false
      },
      "outputs": [],
      "source": [
        "i = 5\n",
        "waveform, sample_rate, label = dataset[i]\n",
        "plot_specgram(waveform, sample_rate, title=f\"Sample {i}: {label}\")\n",
        "IPython.display.Audio(waveform, rate=sample_rate)"
      ]
    }
  ],
  "metadata": {
    "kernelspec": {
      "display_name": "Python 3",
      "language": "python",
      "name": "python3"
    },
    "language_info": {
      "codemirror_mode": {
        "name": "ipython",
        "version": 3
      },
      "file_extension": ".py",
      "mimetype": "text/x-python",
      "name": "python",
      "nbconvert_exporter": "python",
      "pygments_lexer": "ipython3",
      "version": "3.10.15"
    }
  },
  "nbformat": 4,
  "nbformat_minor": 0
}
